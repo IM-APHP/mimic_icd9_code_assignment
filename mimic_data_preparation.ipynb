{
 "cells": [
  {
   "cell_type": "markdown",
   "metadata": {},
   "source": [
    "# Data preparation for automated text classification for ICD 9 diagnosis code assignment from MIMIC Database"
   ]
  },
  {
   "cell_type": "code",
   "execution_count": 1,
   "metadata": {},
   "outputs": [],
   "source": [
    "import pandas as pd\n",
    "%matplotlib inline\n",
    "import numpy as np\n",
    "\n",
    "import matplotlib.pyplot as plt"
   ]
  },
  {
   "cell_type": "markdown",
   "metadata": {},
   "source": [
    "Load MIMIC tables NOTEEVENTS and DIAGNOSES_ICD"
   ]
  },
  {
   "cell_type": "code",
   "execution_count": 2,
   "metadata": {},
   "outputs": [],
   "source": [
    "NOTEEVENTS=pd.read_csv('./data/NOTEEVENTS.csv',dtype={'ROW_ID':np.int32, 'SUBJECT_ID': np.int32,'HADM_ID': np.float64,\n",
    "                                       'CHARTDATE':str,'STORETIME':str,'CHARTTIME':str,\n",
    "                                       'STORETIME': str,'CATEGORY': str,'DESCRIPTION':str,'CGID':str,'ISERROR':str,\n",
    "                                        'TEXT':str}, parse_dates=['CHARTDATE'])\n",
    "DIAGNOSES_ICD=pd.read_csv('./data/DIAGNOSES_ICD.csv',dtype={'ROW_ID':np.int32, 'SUBJECT_ID': np.int32,'HADM_ID': np.int32,\n",
    "                                            'SEQ_NUM':  np.float64,'ICD9_CODE':str})"
   ]
  },
  {
   "cell_type": "markdown",
   "metadata": {},
   "source": [
    "## Explore NOTEEVENTS"
   ]
  },
  {
   "cell_type": "code",
   "execution_count": 3,
   "metadata": {},
   "outputs": [
    {
     "data": {
      "text/plain": [
       "ROW_ID         2083180\n",
       "SUBJECT_ID     2083180\n",
       "HADM_ID        1851344\n",
       "CHARTDATE      2083180\n",
       "CHARTTIME      1766614\n",
       "STORETIME      1246404\n",
       "CATEGORY       2083180\n",
       "DESCRIPTION    2083180\n",
       "CGID           1246404\n",
       "ISERROR            886\n",
       "TEXT           2083180\n",
       "dtype: int64"
      ]
     },
     "execution_count": 3,
     "metadata": {},
     "output_type": "execute_result"
    }
   ],
   "source": [
    "NOTEEVENTS.count()"
   ]
  },
  {
   "cell_type": "code",
   "execution_count": 4,
   "metadata": {},
   "outputs": [
    {
     "data": {
      "text/html": [
       "<div>\n",
       "<style scoped>\n",
       "    .dataframe tbody tr th:only-of-type {\n",
       "        vertical-align: middle;\n",
       "    }\n",
       "\n",
       "    .dataframe tbody tr th {\n",
       "        vertical-align: top;\n",
       "    }\n",
       "\n",
       "    .dataframe thead th {\n",
       "        text-align: right;\n",
       "    }\n",
       "</style>\n",
       "<table border=\"1\" class=\"dataframe\">\n",
       "  <thead>\n",
       "    <tr style=\"text-align: right;\">\n",
       "      <th></th>\n",
       "      <th>ROW_ID</th>\n",
       "      <th>SUBJECT_ID</th>\n",
       "      <th>HADM_ID</th>\n",
       "      <th>CHARTDATE</th>\n",
       "      <th>CHARTTIME</th>\n",
       "      <th>STORETIME</th>\n",
       "      <th>CATEGORY</th>\n",
       "      <th>DESCRIPTION</th>\n",
       "      <th>CGID</th>\n",
       "      <th>ISERROR</th>\n",
       "      <th>TEXT</th>\n",
       "    </tr>\n",
       "  </thead>\n",
       "  <tbody>\n",
       "    <tr>\n",
       "      <th>0</th>\n",
       "      <td>174</td>\n",
       "      <td>22532</td>\n",
       "      <td>167853.0</td>\n",
       "      <td>2151-08-04</td>\n",
       "      <td>NaN</td>\n",
       "      <td>NaN</td>\n",
       "      <td>Discharge summary</td>\n",
       "      <td>Report</td>\n",
       "      <td>NaN</td>\n",
       "      <td>NaN</td>\n",
       "      <td>Admission Date:  [**2151-7-16**]       Dischar...</td>\n",
       "    </tr>\n",
       "    <tr>\n",
       "      <th>1</th>\n",
       "      <td>175</td>\n",
       "      <td>13702</td>\n",
       "      <td>107527.0</td>\n",
       "      <td>2118-06-14</td>\n",
       "      <td>NaN</td>\n",
       "      <td>NaN</td>\n",
       "      <td>Discharge summary</td>\n",
       "      <td>Report</td>\n",
       "      <td>NaN</td>\n",
       "      <td>NaN</td>\n",
       "      <td>Admission Date:  [**2118-6-2**]       Discharg...</td>\n",
       "    </tr>\n",
       "    <tr>\n",
       "      <th>2</th>\n",
       "      <td>176</td>\n",
       "      <td>13702</td>\n",
       "      <td>167118.0</td>\n",
       "      <td>2119-05-25</td>\n",
       "      <td>NaN</td>\n",
       "      <td>NaN</td>\n",
       "      <td>Discharge summary</td>\n",
       "      <td>Report</td>\n",
       "      <td>NaN</td>\n",
       "      <td>NaN</td>\n",
       "      <td>Admission Date:  [**2119-5-4**]              D...</td>\n",
       "    </tr>\n",
       "    <tr>\n",
       "      <th>3</th>\n",
       "      <td>177</td>\n",
       "      <td>13702</td>\n",
       "      <td>196489.0</td>\n",
       "      <td>2124-08-18</td>\n",
       "      <td>NaN</td>\n",
       "      <td>NaN</td>\n",
       "      <td>Discharge summary</td>\n",
       "      <td>Report</td>\n",
       "      <td>NaN</td>\n",
       "      <td>NaN</td>\n",
       "      <td>Admission Date:  [**2124-7-21**]              ...</td>\n",
       "    </tr>\n",
       "    <tr>\n",
       "      <th>4</th>\n",
       "      <td>178</td>\n",
       "      <td>26880</td>\n",
       "      <td>135453.0</td>\n",
       "      <td>2162-03-25</td>\n",
       "      <td>NaN</td>\n",
       "      <td>NaN</td>\n",
       "      <td>Discharge summary</td>\n",
       "      <td>Report</td>\n",
       "      <td>NaN</td>\n",
       "      <td>NaN</td>\n",
       "      <td>Admission Date:  [**2162-3-3**]              D...</td>\n",
       "    </tr>\n",
       "  </tbody>\n",
       "</table>\n",
       "</div>"
      ],
      "text/plain": [
       "   ROW_ID  SUBJECT_ID   HADM_ID  CHARTDATE CHARTTIME STORETIME  \\\n",
       "0     174       22532  167853.0 2151-08-04       NaN       NaN   \n",
       "1     175       13702  107527.0 2118-06-14       NaN       NaN   \n",
       "2     176       13702  167118.0 2119-05-25       NaN       NaN   \n",
       "3     177       13702  196489.0 2124-08-18       NaN       NaN   \n",
       "4     178       26880  135453.0 2162-03-25       NaN       NaN   \n",
       "\n",
       "            CATEGORY DESCRIPTION CGID ISERROR  \\\n",
       "0  Discharge summary      Report  NaN     NaN   \n",
       "1  Discharge summary      Report  NaN     NaN   \n",
       "2  Discharge summary      Report  NaN     NaN   \n",
       "3  Discharge summary      Report  NaN     NaN   \n",
       "4  Discharge summary      Report  NaN     NaN   \n",
       "\n",
       "                                                TEXT  \n",
       "0  Admission Date:  [**2151-7-16**]       Dischar...  \n",
       "1  Admission Date:  [**2118-6-2**]       Discharg...  \n",
       "2  Admission Date:  [**2119-5-4**]              D...  \n",
       "3  Admission Date:  [**2124-7-21**]              ...  \n",
       "4  Admission Date:  [**2162-3-3**]              D...  "
      ]
     },
     "execution_count": 4,
     "metadata": {},
     "output_type": "execute_result"
    }
   ],
   "source": [
    "NOTEEVENTS.head()"
   ]
  },
  {
   "cell_type": "code",
   "execution_count": 5,
   "metadata": {},
   "outputs": [
    {
     "data": {
      "text/html": [
       "<div>\n",
       "<style scoped>\n",
       "    .dataframe tbody tr th:only-of-type {\n",
       "        vertical-align: middle;\n",
       "    }\n",
       "\n",
       "    .dataframe tbody tr th {\n",
       "        vertical-align: top;\n",
       "    }\n",
       "\n",
       "    .dataframe thead th {\n",
       "        text-align: right;\n",
       "    }\n",
       "</style>\n",
       "<table border=\"1\" class=\"dataframe\">\n",
       "  <thead>\n",
       "    <tr style=\"text-align: right;\">\n",
       "      <th></th>\n",
       "      <th>ROW_ID</th>\n",
       "      <th>SUBJECT_ID</th>\n",
       "      <th>HADM_ID</th>\n",
       "      <th>CHARTDATE</th>\n",
       "      <th>CHARTTIME</th>\n",
       "      <th>STORETIME</th>\n",
       "      <th>DESCRIPTION</th>\n",
       "      <th>CGID</th>\n",
       "      <th>ISERROR</th>\n",
       "      <th>TEXT</th>\n",
       "    </tr>\n",
       "    <tr>\n",
       "      <th>CATEGORY</th>\n",
       "      <th></th>\n",
       "      <th></th>\n",
       "      <th></th>\n",
       "      <th></th>\n",
       "      <th></th>\n",
       "      <th></th>\n",
       "      <th></th>\n",
       "      <th></th>\n",
       "      <th></th>\n",
       "      <th></th>\n",
       "    </tr>\n",
       "  </thead>\n",
       "  <tbody>\n",
       "    <tr>\n",
       "      <th>Case Management</th>\n",
       "      <td>967</td>\n",
       "      <td>967</td>\n",
       "      <td>954</td>\n",
       "      <td>967</td>\n",
       "      <td>967</td>\n",
       "      <td>967</td>\n",
       "      <td>967</td>\n",
       "      <td>967</td>\n",
       "      <td>14</td>\n",
       "      <td>967</td>\n",
       "    </tr>\n",
       "    <tr>\n",
       "      <th>Consult</th>\n",
       "      <td>98</td>\n",
       "      <td>98</td>\n",
       "      <td>98</td>\n",
       "      <td>98</td>\n",
       "      <td>98</td>\n",
       "      <td>98</td>\n",
       "      <td>98</td>\n",
       "      <td>98</td>\n",
       "      <td>0</td>\n",
       "      <td>98</td>\n",
       "    </tr>\n",
       "    <tr>\n",
       "      <th>Discharge summary</th>\n",
       "      <td>59652</td>\n",
       "      <td>59652</td>\n",
       "      <td>59652</td>\n",
       "      <td>59652</td>\n",
       "      <td>0</td>\n",
       "      <td>0</td>\n",
       "      <td>59652</td>\n",
       "      <td>0</td>\n",
       "      <td>0</td>\n",
       "      <td>59652</td>\n",
       "    </tr>\n",
       "    <tr>\n",
       "      <th>ECG</th>\n",
       "      <td>209051</td>\n",
       "      <td>209051</td>\n",
       "      <td>138190</td>\n",
       "      <td>209051</td>\n",
       "      <td>0</td>\n",
       "      <td>0</td>\n",
       "      <td>209051</td>\n",
       "      <td>0</td>\n",
       "      <td>0</td>\n",
       "      <td>209051</td>\n",
       "    </tr>\n",
       "    <tr>\n",
       "      <th>Echo</th>\n",
       "      <td>45794</td>\n",
       "      <td>45794</td>\n",
       "      <td>34037</td>\n",
       "      <td>45794</td>\n",
       "      <td>0</td>\n",
       "      <td>0</td>\n",
       "      <td>45794</td>\n",
       "      <td>0</td>\n",
       "      <td>0</td>\n",
       "      <td>45794</td>\n",
       "    </tr>\n",
       "    <tr>\n",
       "      <th>General</th>\n",
       "      <td>8301</td>\n",
       "      <td>8301</td>\n",
       "      <td>8209</td>\n",
       "      <td>8301</td>\n",
       "      <td>8260</td>\n",
       "      <td>8301</td>\n",
       "      <td>8301</td>\n",
       "      <td>8301</td>\n",
       "      <td>65</td>\n",
       "      <td>8301</td>\n",
       "    </tr>\n",
       "    <tr>\n",
       "      <th>Nursing</th>\n",
       "      <td>223556</td>\n",
       "      <td>223556</td>\n",
       "      <td>220758</td>\n",
       "      <td>223556</td>\n",
       "      <td>222172</td>\n",
       "      <td>223556</td>\n",
       "      <td>223556</td>\n",
       "      <td>223556</td>\n",
       "      <td>374</td>\n",
       "      <td>223556</td>\n",
       "    </tr>\n",
       "    <tr>\n",
       "      <th>Nursing/other</th>\n",
       "      <td>822497</td>\n",
       "      <td>822497</td>\n",
       "      <td>821258</td>\n",
       "      <td>822497</td>\n",
       "      <td>822497</td>\n",
       "      <td>822497</td>\n",
       "      <td>822497</td>\n",
       "      <td>822497</td>\n",
       "      <td>0</td>\n",
       "      <td>822497</td>\n",
       "    </tr>\n",
       "    <tr>\n",
       "      <th>Nutrition</th>\n",
       "      <td>9418</td>\n",
       "      <td>9418</td>\n",
       "      <td>9378</td>\n",
       "      <td>9418</td>\n",
       "      <td>9411</td>\n",
       "      <td>9418</td>\n",
       "      <td>9418</td>\n",
       "      <td>9418</td>\n",
       "      <td>18</td>\n",
       "      <td>9418</td>\n",
       "    </tr>\n",
       "    <tr>\n",
       "      <th>Pharmacy</th>\n",
       "      <td>103</td>\n",
       "      <td>103</td>\n",
       "      <td>102</td>\n",
       "      <td>103</td>\n",
       "      <td>102</td>\n",
       "      <td>103</td>\n",
       "      <td>103</td>\n",
       "      <td>103</td>\n",
       "      <td>2</td>\n",
       "      <td>103</td>\n",
       "    </tr>\n",
       "    <tr>\n",
       "      <th>Physician</th>\n",
       "      <td>141624</td>\n",
       "      <td>141624</td>\n",
       "      <td>140100</td>\n",
       "      <td>141624</td>\n",
       "      <td>141048</td>\n",
       "      <td>141624</td>\n",
       "      <td>141624</td>\n",
       "      <td>141624</td>\n",
       "      <td>343</td>\n",
       "      <td>141624</td>\n",
       "    </tr>\n",
       "    <tr>\n",
       "      <th>Radiology</th>\n",
       "      <td>522279</td>\n",
       "      <td>522279</td>\n",
       "      <td>378920</td>\n",
       "      <td>522279</td>\n",
       "      <td>522279</td>\n",
       "      <td>0</td>\n",
       "      <td>522279</td>\n",
       "      <td>0</td>\n",
       "      <td>0</td>\n",
       "      <td>522279</td>\n",
       "    </tr>\n",
       "    <tr>\n",
       "      <th>Rehab Services</th>\n",
       "      <td>5431</td>\n",
       "      <td>5431</td>\n",
       "      <td>5409</td>\n",
       "      <td>5431</td>\n",
       "      <td>5429</td>\n",
       "      <td>5431</td>\n",
       "      <td>5431</td>\n",
       "      <td>5431</td>\n",
       "      <td>23</td>\n",
       "      <td>5431</td>\n",
       "    </tr>\n",
       "    <tr>\n",
       "      <th>Respiratory</th>\n",
       "      <td>31739</td>\n",
       "      <td>31739</td>\n",
       "      <td>31667</td>\n",
       "      <td>31739</td>\n",
       "      <td>31703</td>\n",
       "      <td>31739</td>\n",
       "      <td>31739</td>\n",
       "      <td>31739</td>\n",
       "      <td>38</td>\n",
       "      <td>31739</td>\n",
       "    </tr>\n",
       "    <tr>\n",
       "      <th>Social Work</th>\n",
       "      <td>2670</td>\n",
       "      <td>2670</td>\n",
       "      <td>2612</td>\n",
       "      <td>2670</td>\n",
       "      <td>2648</td>\n",
       "      <td>2670</td>\n",
       "      <td>2670</td>\n",
       "      <td>2670</td>\n",
       "      <td>9</td>\n",
       "      <td>2670</td>\n",
       "    </tr>\n",
       "  </tbody>\n",
       "</table>\n",
       "</div>"
      ],
      "text/plain": [
       "                   ROW_ID  SUBJECT_ID  HADM_ID  CHARTDATE  CHARTTIME  \\\n",
       "CATEGORY                                                               \n",
       "Case Management       967         967      954        967        967   \n",
       "Consult                98          98       98         98         98   \n",
       "Discharge summary   59652       59652    59652      59652          0   \n",
       "ECG                209051      209051   138190     209051          0   \n",
       "Echo                45794       45794    34037      45794          0   \n",
       "General              8301        8301     8209       8301       8260   \n",
       "Nursing            223556      223556   220758     223556     222172   \n",
       "Nursing/other      822497      822497   821258     822497     822497   \n",
       "Nutrition            9418        9418     9378       9418       9411   \n",
       "Pharmacy              103         103      102        103        102   \n",
       "Physician          141624      141624   140100     141624     141048   \n",
       "Radiology          522279      522279   378920     522279     522279   \n",
       "Rehab Services       5431        5431     5409       5431       5429   \n",
       "Respiratory         31739       31739    31667      31739      31703   \n",
       "Social Work          2670        2670     2612       2670       2648   \n",
       "\n",
       "                   STORETIME  DESCRIPTION    CGID  ISERROR    TEXT  \n",
       "CATEGORY                                                            \n",
       "Case Management          967          967     967       14     967  \n",
       "Consult                   98           98      98        0      98  \n",
       "Discharge summary          0        59652       0        0   59652  \n",
       "ECG                        0       209051       0        0  209051  \n",
       "Echo                       0        45794       0        0   45794  \n",
       "General                 8301         8301    8301       65    8301  \n",
       "Nursing               223556       223556  223556      374  223556  \n",
       "Nursing/other         822497       822497  822497        0  822497  \n",
       "Nutrition               9418         9418    9418       18    9418  \n",
       "Pharmacy                 103          103     103        2     103  \n",
       "Physician             141624       141624  141624      343  141624  \n",
       "Radiology                  0       522279       0        0  522279  \n",
       "Rehab Services          5431         5431    5431       23    5431  \n",
       "Respiratory            31739        31739   31739       38   31739  \n",
       "Social Work             2670         2670    2670        9    2670  "
      ]
     },
     "execution_count": 5,
     "metadata": {},
     "output_type": "execute_result"
    }
   ],
   "source": [
    "NOTEEVENTS.groupby('CATEGORY').count()"
   ]
  },
  {
   "cell_type": "markdown",
   "metadata": {},
   "source": [
    "## Explore DIAGNOSES_ICD"
   ]
  },
  {
   "cell_type": "code",
   "execution_count": 6,
   "metadata": {},
   "outputs": [
    {
     "data": {
      "text/plain": [
       "ROW_ID        651047\n",
       "SUBJECT_ID    651047\n",
       "HADM_ID       651047\n",
       "SEQ_NUM       651000\n",
       "ICD9_CODE     651000\n",
       "ICD9_CHAP     651000\n",
       "dtype: int64"
      ]
     },
     "execution_count": 6,
     "metadata": {},
     "output_type": "execute_result"
    }
   ],
   "source": [
    "DIAGNOSES_ICD['ICD9_CODE']=DIAGNOSES_ICD['ICD9_CODE'].str.pad(4,'left','0')\n",
    "DIAGNOSES_ICD['ICD9_CHAP']=DIAGNOSES_ICD['ICD9_CODE'].str.slice(0,3)\n",
    "DIAGNOSES_ICD.count()"
   ]
  },
  {
   "cell_type": "code",
   "execution_count": 7,
   "metadata": {},
   "outputs": [
    {
     "data": {
      "text/html": [
       "<div>\n",
       "<style scoped>\n",
       "    .dataframe tbody tr th:only-of-type {\n",
       "        vertical-align: middle;\n",
       "    }\n",
       "\n",
       "    .dataframe tbody tr th {\n",
       "        vertical-align: top;\n",
       "    }\n",
       "\n",
       "    .dataframe thead th {\n",
       "        text-align: right;\n",
       "    }\n",
       "</style>\n",
       "<table border=\"1\" class=\"dataframe\">\n",
       "  <thead>\n",
       "    <tr style=\"text-align: right;\">\n",
       "      <th></th>\n",
       "      <th>ROW_ID</th>\n",
       "      <th>SUBJECT_ID</th>\n",
       "      <th>HADM_ID</th>\n",
       "      <th>SEQ_NUM</th>\n",
       "      <th>ICD9_CODE</th>\n",
       "      <th>ICD9_CHAP</th>\n",
       "    </tr>\n",
       "  </thead>\n",
       "  <tbody>\n",
       "    <tr>\n",
       "      <th>0</th>\n",
       "      <td>1297</td>\n",
       "      <td>109</td>\n",
       "      <td>172335</td>\n",
       "      <td>1.0</td>\n",
       "      <td>40301</td>\n",
       "      <td>403</td>\n",
       "    </tr>\n",
       "    <tr>\n",
       "      <th>1</th>\n",
       "      <td>1298</td>\n",
       "      <td>109</td>\n",
       "      <td>172335</td>\n",
       "      <td>2.0</td>\n",
       "      <td>0486</td>\n",
       "      <td>048</td>\n",
       "    </tr>\n",
       "    <tr>\n",
       "      <th>2</th>\n",
       "      <td>1299</td>\n",
       "      <td>109</td>\n",
       "      <td>172335</td>\n",
       "      <td>3.0</td>\n",
       "      <td>58281</td>\n",
       "      <td>582</td>\n",
       "    </tr>\n",
       "    <tr>\n",
       "      <th>3</th>\n",
       "      <td>1300</td>\n",
       "      <td>109</td>\n",
       "      <td>172335</td>\n",
       "      <td>4.0</td>\n",
       "      <td>5855</td>\n",
       "      <td>585</td>\n",
       "    </tr>\n",
       "    <tr>\n",
       "      <th>4</th>\n",
       "      <td>1301</td>\n",
       "      <td>109</td>\n",
       "      <td>172335</td>\n",
       "      <td>5.0</td>\n",
       "      <td>4254</td>\n",
       "      <td>425</td>\n",
       "    </tr>\n",
       "  </tbody>\n",
       "</table>\n",
       "</div>"
      ],
      "text/plain": [
       "   ROW_ID  SUBJECT_ID  HADM_ID  SEQ_NUM ICD9_CODE ICD9_CHAP\n",
       "0    1297         109   172335      1.0     40301       403\n",
       "1    1298         109   172335      2.0      0486       048\n",
       "2    1299         109   172335      3.0     58281       582\n",
       "3    1300         109   172335      4.0      5855       585\n",
       "4    1301         109   172335      5.0      4254       425"
      ]
     },
     "execution_count": 7,
     "metadata": {},
     "output_type": "execute_result"
    }
   ],
   "source": [
    "DIAGNOSES_ICD.head()"
   ]
  },
  {
   "cell_type": "code",
   "execution_count": 8,
   "metadata": {},
   "outputs": [
    {
     "data": {
      "text/plain": [
       "ICD9_CODE\n",
       "0     42765\n",
       "1     12322\n",
       "2    106309\n",
       "3     38668\n",
       "4    142137\n",
       "5     91067\n",
       "6      6989\n",
       "7     71110\n",
       "8     15112\n",
       "9     27606\n",
       "E     22544\n",
       "V     74371\n",
       "Name: HADM_ID, dtype: int64"
      ]
     },
     "execution_count": 8,
     "metadata": {},
     "output_type": "execute_result"
    }
   ],
   "source": [
    "##Explore by the first character\n",
    "DIAGNOSES_ICD.groupby(DIAGNOSES_ICD['ICD9_CODE'].str.slice(0,1))['HADM_ID'].count()"
   ]
  },
  {
   "cell_type": "markdown",
   "metadata": {},
   "source": [
    "Codes from V,E,U,8,9 can be exclude in a purpose of facturation as they are not take in count for the calculus of hospitalization fees."
   ]
  },
  {
   "cell_type": "code",
   "execution_count": 9,
   "metadata": {},
   "outputs": [],
   "source": [
    "DIAGNOSES_ICD=DIAGNOSES_ICD[~DIAGNOSES_ICD['ICD9_CODE'].str.slice(0,1).isin(['V','E','U','8','9'])]"
   ]
  },
  {
   "cell_type": "markdown",
   "metadata": {},
   "source": [
    "## Exploration of diagnoses to choose the perfect y\n",
    "### Selection of the most frequent codes"
   ]
  },
  {
   "cell_type": "code",
   "execution_count": 10,
   "metadata": {},
   "outputs": [],
   "source": [
    "a=DIAGNOSES_ICD.groupby('ICD9_CODE')['HADM_ID'].count().sort_values(ascending=False)"
   ]
  },
  {
   "cell_type": "code",
   "execution_count": 11,
   "metadata": {},
   "outputs": [
    {
     "data": {
      "text/plain": [
       "<matplotlib.axes._subplots.AxesSubplot at 0x2187a370518>"
      ]
     },
     "execution_count": 11,
     "metadata": {},
     "output_type": "execute_result"
    },
    {
     "data": {
      "image/png": "[encoded data removed]",
      "text/plain": [
       "<matplotlib.figure.Figure at 0x2187970aba8>"
      ]
     },
     "metadata": {},
     "output_type": "display_data"
    }
   ],
   "source": [
    "a.hist(figsize= (17, 5))"
   ]
  },
  {
   "cell_type": "code",
   "execution_count": 12,
   "metadata": {},
   "outputs": [
    {
     "data": {
      "text/plain": [
       "<matplotlib.axes._subplots.AxesSubplot at 0x2187a3a15f8>"
      ]
     },
     "execution_count": 12,
     "metadata": {},
     "output_type": "execute_result"
    },
    {
     "data": {
      "image/png": "[encoded data removed]",
      "text/plain": [
       "<matplotlib.figure.Figure at 0x21800cb9588>"
      ]
     },
     "metadata": {},
     "output_type": "display_data"
    }
   ],
   "source": [
    "np.log10(a).hist(figsize= (17, 5))"
   ]
  },
  {
   "cell_type": "markdown",
   "metadata": {
    "collapsed": true
   },
   "source": [
    "Due to dispersion of the distribution and the low frequency of some code, for the machine learning task a selection of the code and their chapter will be made"
   ]
  },
  {
   "cell_type": "code",
   "execution_count": 13,
   "metadata": {},
   "outputs": [
    {
     "name": "stdout",
     "output_type": "stream",
     "text": [
      "Nb codes > 1000 occurences= 98  \n",
      "Nb codes 1000-100 occurences = 557  \n",
      "Nb codes <100 occurences = 3970\n"
     ]
    }
   ],
   "source": [
    "print('Nb codes > 1000 occurences= '+str(len(a[a>1000]))+\n",
    "      '  \\nNb codes 1000-100 occurences = ' +str(len(a[(a<1000)&(a>100)]))\n",
    "      +'  \\nNb codes <100 occurences = ' +str(len(a[a<100])) )"
   ]
  },
  {
   "cell_type": "code",
   "execution_count": 14,
   "metadata": {},
   "outputs": [
    {
     "data": {
      "text/plain": [
       "<matplotlib.axes._subplots.AxesSubplot at 0x21800d3fbe0>"
      ]
     },
     "execution_count": 14,
     "metadata": {},
     "output_type": "execute_result"
    },
    {
     "data": {
      "image/png": "[encoded data removed]",
      "text/plain": [
       "<matplotlib.figure.Figure at 0x21800cb99e8>"
      ]
     },
     "metadata": {},
     "output_type": "display_data"
    }
   ],
   "source": [
    "a[a>1000].plot(kind='bar',figsize= (17, 10))"
   ]
  },
  {
   "cell_type": "code",
   "execution_count": 15,
   "metadata": {},
   "outputs": [
    {
     "data": {
      "text/html": [
       "<div>\n",
       "<style scoped>\n",
       "    .dataframe tbody tr th:only-of-type {\n",
       "        vertical-align: middle;\n",
       "    }\n",
       "\n",
       "    .dataframe tbody tr th {\n",
       "        vertical-align: top;\n",
       "    }\n",
       "\n",
       "    .dataframe thead th {\n",
       "        text-align: right;\n",
       "    }\n",
       "</style>\n",
       "<table border=\"1\" class=\"dataframe\">\n",
       "  <thead>\n",
       "    <tr style=\"text-align: right;\">\n",
       "      <th></th>\n",
       "      <th>ICD9_CODE</th>\n",
       "      <th>HADM_ID</th>\n",
       "    </tr>\n",
       "    <tr>\n",
       "      <th>HADM_ID</th>\n",
       "      <th></th>\n",
       "      <th></th>\n",
       "    </tr>\n",
       "  </thead>\n",
       "  <tbody>\n",
       "    <tr>\n",
       "      <th>100001</th>\n",
       "      <td>[5849, 40390]</td>\n",
       "      <td>100001</td>\n",
       "    </tr>\n",
       "    <tr>\n",
       "      <th>100003</th>\n",
       "      <td>[2851, 07054, 5715, 4019]</td>\n",
       "      <td>100003</td>\n",
       "    </tr>\n",
       "    <tr>\n",
       "      <th>100006</th>\n",
       "      <td>[51881, 0486, 2761]</td>\n",
       "      <td>100006</td>\n",
       "    </tr>\n",
       "    <tr>\n",
       "      <th>100007</th>\n",
       "      <td>[0486, 4019]</td>\n",
       "      <td>100007</td>\n",
       "    </tr>\n",
       "    <tr>\n",
       "      <th>100009</th>\n",
       "      <td>[41401, 25000, 27800, 4111, 2859, 4019, 2720]</td>\n",
       "      <td>100009</td>\n",
       "    </tr>\n",
       "  </tbody>\n",
       "</table>\n",
       "</div>"
      ],
      "text/plain": [
       "                                             ICD9_CODE  HADM_ID\n",
       "HADM_ID                                                        \n",
       "100001                                   [5849, 40390]   100001\n",
       "100003                       [2851, 07054, 5715, 4019]   100003\n",
       "100006                             [51881, 0486, 2761]   100006\n",
       "100007                                    [0486, 4019]   100007\n",
       "100009   [41401, 25000, 27800, 4111, 2859, 4019, 2720]   100009"
      ]
     },
     "execution_count": 15,
     "metadata": {},
     "output_type": "execute_result"
    }
   ],
   "source": [
    "a=DIAGNOSES_ICD.groupby('ICD9_CODE')[ 'HADM_ID'].count()\n",
    "DIAGNOSES_ICD_freq=DIAGNOSES_ICD[DIAGNOSES_ICD['ICD9_CODE'].isin(a[a>1000].keys())]\n",
    "df=DIAGNOSES_ICD_freq.groupby('HADM_ID')['ICD9_CODE'].apply(lambda x: \"['%s']\" %\"','\".join(x))\n",
    "df=df.apply(lambda x : eval(x))\n",
    "DIAGNOSES_ICD_freq=pd.DataFrame(df)\n",
    "DIAGNOSES_ICD_freq['HADM_ID']=df.keys()\n",
    "DIAGNOSES_ICD_freq.head()"
   ]
  },
  {
   "cell_type": "markdown",
   "metadata": {},
   "source": [
    "Selection des séjours avec les codes les plus fréquents"
   ]
  },
  {
   "cell_type": "code",
   "execution_count": 16,
   "metadata": {},
   "outputs": [
    {
     "name": "stdout",
     "output_type": "stream",
     "text": [
      "Nb de séjours sélectionnés = 51300  \n",
      "Nb de codes différents = 98\n"
     ]
    }
   ],
   "source": [
    "print('Nb de séjours sélectionnés = '+str(DIAGNOSES_ICD_freq['HADM_ID'].nunique())+\n",
    "      '  \\nNb de codes différents = ' +str(len(a[a>1000])))"
   ]
  },
  {
   "cell_type": "markdown",
   "metadata": {},
   "source": [
    "### Selection of the most frequent chapters"
   ]
  },
  {
   "cell_type": "code",
   "execution_count": 17,
   "metadata": {},
   "outputs": [],
   "source": [
    "a=DIAGNOSES_ICD.groupby('ICD9_CHAP')[ 'HADM_ID'].count().sort_values(ascending=False)"
   ]
  },
  {
   "cell_type": "code",
   "execution_count": 18,
   "metadata": {},
   "outputs": [
    {
     "name": "stdout",
     "output_type": "stream",
     "text": [
      "Nb codes de chapitres > 1000 occurences= 109  \n",
      "Nb codes de chapitres 1000-100 occurences = 201  \n",
      "Nb codes de chapitres <100 occurences = 315\n"
     ]
    }
   ],
   "source": [
    "print('Nb codes de chapitres > 1000 occurences= '+str(len(a[a>1000]))+\n",
    "      '  \\nNb codes de chapitres 1000-100 occurences = ' +str(len(a[(a<1000)&(a>100)]))\n",
    "      +'  \\nNb codes de chapitres <100 occurences = ' +str(len(a[a<100])) )"
   ]
  },
  {
   "cell_type": "code",
   "execution_count": 19,
   "metadata": {},
   "outputs": [],
   "source": [
    "#a=DIAGNOSES_ICD[~DIAGNOSES_ICD['ICD9_CODE'].isin(DIAGNOSES_ICD_freq['ICD9_CODE'])].groupby('ICD9_CHAP')[ 'HADM_ID'].count()\n",
    "a=DIAGNOSES_ICD.groupby('ICD9_CHAP')['HADM_ID'].count()\n",
    "DIAGNOSES_ICD_chap_freq=DIAGNOSES_ICD[DIAGNOSES_ICD['ICD9_CHAP'].isin(a[a>1000].keys())]\n"
   ]
  },
  {
   "cell_type": "markdown",
   "metadata": {},
   "source": [
    "Selection des séjours avec les codes appartenant aux les plus fréquents"
   ]
  },
  {
   "cell_type": "code",
   "execution_count": 20,
   "metadata": {},
   "outputs": [
    {
     "name": "stdout",
     "output_type": "stream",
     "text": [
      "Nb de séjours sélectionnés = 54903  \n",
      "Nb de chapitres différents = 109\n"
     ]
    }
   ],
   "source": [
    "print('Nb de séjours sélectionnés = '+str(DIAGNOSES_ICD_chap_freq['HADM_ID'].nunique())+\n",
    "      '  \\nNb de chapitres différents = ' +str(DIAGNOSES_ICD_chap_freq['ICD9_CHAP'].nunique()))"
   ]
  },
  {
   "cell_type": "code",
   "execution_count": 21,
   "metadata": {},
   "outputs": [
    {
     "data": {
      "text/plain": [
       "<matplotlib.axes._subplots.AxesSubplot at 0x21880d09908>"
      ]
     },
     "execution_count": 21,
     "metadata": {},
     "output_type": "execute_result"
    },
    {
     "data": {
      "image/png": "[encoded data removed]",
      "text/plain": [
       "<matplotlib.figure.Figure at 0x21800d25630>"
      ]
     },
     "metadata": {},
     "output_type": "display_data"
    }
   ],
   "source": [
    "DIAGNOSES_ICD_chap_freq.groupby('ICD9_CHAP')['HADM_ID'].count().sort_values(ascending=False).plot(kind='bar',figsize= (17, 10))"
   ]
  },
  {
   "cell_type": "code",
   "execution_count": 22,
   "metadata": {},
   "outputs": [
    {
     "data": {
      "text/html": [
       "<div>\n",
       "<style scoped>\n",
       "    .dataframe tbody tr th:only-of-type {\n",
       "        vertical-align: middle;\n",
       "    }\n",
       "\n",
       "    .dataframe tbody tr th {\n",
       "        vertical-align: top;\n",
       "    }\n",
       "\n",
       "    .dataframe thead th {\n",
       "        text-align: right;\n",
       "    }\n",
       "</style>\n",
       "<table border=\"1\" class=\"dataframe\">\n",
       "  <thead>\n",
       "    <tr style=\"text-align: right;\">\n",
       "      <th></th>\n",
       "      <th>ICD9_CHAP</th>\n",
       "      <th>HADM_ID</th>\n",
       "    </tr>\n",
       "    <tr>\n",
       "      <th>HADM_ID</th>\n",
       "      <th></th>\n",
       "      <th></th>\n",
       "    </tr>\n",
       "  </thead>\n",
       "  <tbody>\n",
       "    <tr>\n",
       "      <th>100001</th>\n",
       "      <td>[250, 584, 578, 250, 458, 250, 403, 585, 250, ...</td>\n",
       "      <td>100001</td>\n",
       "    </tr>\n",
       "    <tr>\n",
       "      <th>100003</th>\n",
       "      <td>[285, 070, 571, 456, 401, 535]</td>\n",
       "      <td>100003</td>\n",
       "    </tr>\n",
       "    <tr>\n",
       "      <th>100006</th>\n",
       "      <td>[493, 518, 048, 276, 785]</td>\n",
       "      <td>100006</td>\n",
       "    </tr>\n",
       "    <tr>\n",
       "      <th>100007</th>\n",
       "      <td>[560, 048, 401]</td>\n",
       "      <td>100007</td>\n",
       "    </tr>\n",
       "    <tr>\n",
       "      <th>100009</th>\n",
       "      <td>[414, 414, 250, 278, 414, 411, 285, 401, 272, ...</td>\n",
       "      <td>100009</td>\n",
       "    </tr>\n",
       "  </tbody>\n",
       "</table>\n",
       "</div>"
      ],
      "text/plain": [
       "                                                 ICD9_CHAP  HADM_ID\n",
       "HADM_ID                                                            \n",
       "100001   [250, 584, 578, 250, 458, 250, 403, 585, 250, ...   100001\n",
       "100003                      [285, 070, 571, 456, 401, 535]   100003\n",
       "100006                           [493, 518, 048, 276, 785]   100006\n",
       "100007                                     [560, 048, 401]   100007\n",
       "100009   [414, 414, 250, 278, 414, 411, 285, 401, 272, ...   100009"
      ]
     },
     "execution_count": 22,
     "metadata": {},
     "output_type": "execute_result"
    }
   ],
   "source": [
    "df=DIAGNOSES_ICD_chap_freq.groupby('HADM_ID')['ICD9_CHAP'].apply(lambda x: \"['%s']\" %\"','\".join(x))\n",
    "df=df.apply(lambda x : eval(x))\n",
    "DIAGNOSES_ICD_chap_freq=pd.DataFrame(df)\n",
    "DIAGNOSES_ICD_chap_freq['HADM_ID']=df.keys()\n",
    "DIAGNOSES_ICD_chap_freq.head()"
   ]
  },
  {
   "cell_type": "markdown",
   "metadata": {},
   "source": [
    "### Conclusion : we will focus on ICD chapters."
   ]
  },
  {
   "cell_type": "markdown",
   "metadata": {},
   "source": [
    "## Build the final X and y"
   ]
  },
  {
   "cell_type": "markdown",
   "metadata": {},
   "source": [
    "Merge of the most important notes to make a single text by hospitalisation.\n",
    "\n",
    "In the first place we will focus on discharge summaries."
   ]
  },
  {
   "cell_type": "code",
   "execution_count": 23,
   "metadata": {},
   "outputs": [],
   "source": [
    "selected_doc=['Discharge summary']\n",
    "df=NOTEEVENTS[NOTEEVENTS['CATEGORY'].isin(selected_doc)].groupby('HADM_ID')['TEXT'].apply(lambda x: \"{%s}\" % ', '.join(x))\n",
    "df2=pd.DataFrame(df)\n",
    "df2['HADM_ID']=df.keys()\n"
   ]
  },
  {
   "cell_type": "markdown",
   "metadata": {},
   "source": [
    "Create one dataframe for selected diagnoses with merge with texts on HADM_ID, and the other one for selected chapters, and concatenate them to have the final dataframe that will be use for prediction"
   ]
  },
  {
   "cell_type": "code",
   "execution_count": 24,
   "metadata": {},
   "outputs": [],
   "source": [
    "#NOTE_DIAGNOSES=pd.merge(df2,DIAGNOSES_ICD_freq[['HADM_ID','ICD9_CODE']],on='HADM_ID')\n",
    "NOTE_DIAGNOSES=pd.merge(df2,DIAGNOSES_ICD_chap_freq[['HADM_ID','ICD9_CHAP']],on='HADM_ID')"
   ]
  },
  {
   "cell_type": "code",
   "execution_count": 25,
   "metadata": {},
   "outputs": [
    {
     "data": {
      "text/html": [
       "<div>\n",
       "<style scoped>\n",
       "    .dataframe tbody tr th:only-of-type {\n",
       "        vertical-align: middle;\n",
       "    }\n",
       "\n",
       "    .dataframe tbody tr th {\n",
       "        vertical-align: top;\n",
       "    }\n",
       "\n",
       "    .dataframe thead th {\n",
       "        text-align: right;\n",
       "    }\n",
       "</style>\n",
       "<table border=\"1\" class=\"dataframe\">\n",
       "  <thead>\n",
       "    <tr style=\"text-align: right;\">\n",
       "      <th></th>\n",
       "      <th>TEXT</th>\n",
       "      <th>HADM_ID</th>\n",
       "      <th>ICD9_CHAP</th>\n",
       "    </tr>\n",
       "  </thead>\n",
       "  <tbody>\n",
       "    <tr>\n",
       "      <th>0</th>\n",
       "      <td>{Admission Date:  [**2117-9-11**]             ...</td>\n",
       "      <td>100001</td>\n",
       "      <td>[250, 584, 578, 250, 458, 250, 403, 585, 250, ...</td>\n",
       "    </tr>\n",
       "    <tr>\n",
       "      <th>1</th>\n",
       "      <td>{Admission Date:  [**2150-4-17**]             ...</td>\n",
       "      <td>100003</td>\n",
       "      <td>[285, 070, 571, 456, 401, 535]</td>\n",
       "    </tr>\n",
       "    <tr>\n",
       "      <th>2</th>\n",
       "      <td>{Admission Date:  [**2108-4-6**]       Dischar...</td>\n",
       "      <td>100006</td>\n",
       "      <td>[493, 518, 048, 276, 785]</td>\n",
       "    </tr>\n",
       "    <tr>\n",
       "      <th>3</th>\n",
       "      <td>{Admission Date:  [**2145-3-31**]             ...</td>\n",
       "      <td>100007</td>\n",
       "      <td>[560, 048, 401]</td>\n",
       "    </tr>\n",
       "    <tr>\n",
       "      <th>4</th>\n",
       "      <td>{Admission Date:  [**2162-5-16**]             ...</td>\n",
       "      <td>100009</td>\n",
       "      <td>[414, 414, 250, 278, 414, 411, 285, 401, 272, ...</td>\n",
       "    </tr>\n",
       "  </tbody>\n",
       "</table>\n",
       "</div>"
      ],
      "text/plain": [
       "                                                TEXT HADM_ID  \\\n",
       "0  {Admission Date:  [**2117-9-11**]             ...  100001   \n",
       "1  {Admission Date:  [**2150-4-17**]             ...  100003   \n",
       "2  {Admission Date:  [**2108-4-6**]       Dischar...  100006   \n",
       "3  {Admission Date:  [**2145-3-31**]             ...  100007   \n",
       "4  {Admission Date:  [**2162-5-16**]             ...  100009   \n",
       "\n",
       "                                           ICD9_CHAP  \n",
       "0  [250, 584, 578, 250, 458, 250, 403, 585, 250, ...  \n",
       "1                     [285, 070, 571, 456, 401, 535]  \n",
       "2                          [493, 518, 048, 276, 785]  \n",
       "3                                    [560, 048, 401]  \n",
       "4  [414, 414, 250, 278, 414, 411, 285, 401, 272, ...  "
      ]
     },
     "execution_count": 25,
     "metadata": {},
     "output_type": "execute_result"
    }
   ],
   "source": [
    "NOTE_DIAGNOSES.head()"
   ]
  },
  {
   "cell_type": "code",
   "execution_count": 26,
   "metadata": {},
   "outputs": [
    {
     "data": {
      "text/plain": [
       "(51817, 3)"
      ]
     },
     "execution_count": 26,
     "metadata": {},
     "output_type": "execute_result"
    }
   ],
   "source": [
    "NOTE_DIAGNOSES.shape"
   ]
  },
  {
   "cell_type": "code",
   "execution_count": 27,
   "metadata": {},
   "outputs": [
    {
     "name": "stdout",
     "output_type": "stream",
     "text": [
      "Size of train: 41453 \n",
      "Size of test: 10364\n"
     ]
    }
   ],
   "source": [
    "from sklearn import model_selection\n",
    "NOTE_DIAGNOSES.rename(columns={\"ICD9_CHAP\": \"TARGET\"}, inplace=True)\n",
    "train, test = model_selection.train_test_split(NOTE_DIAGNOSES[['HADM_ID','TEXT','TARGET']],test_size=0.2)\n",
    "print('Size of train: '+str(train.shape[0])+' \\nSize of test: '+str(test.shape[0]) )"
   ]
  },
  {
   "cell_type": "code",
   "execution_count": 46,
   "metadata": {
    "collapsed": true
   },
   "outputs": [],
   "source": [
    "train.to_csv('./data/train.csv',index=False)\n",
    "test.to_csv('./data/test.csv',index=False)"
   ]
  }
 ],
 "metadata": {
  "kernelspec": {
   "display_name": "Python [default]",
   "language": "python",
   "name": "python3"
  },
  "language_info": {
   "codemirror_mode": {
    "name": "ipython",
    "version": 3
   },
   "file_extension": ".py",
   "mimetype": "text/x-python",
   "name": "python",
   "nbconvert_exporter": "python",
   "pygments_lexer": "ipython3",
   "version": "3.6.2"
  }
 },
 "nbformat": 4,
 "nbformat_minor": 2
}
